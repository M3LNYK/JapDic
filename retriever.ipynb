{
 "cells": [
  {
   "cell_type": "markdown",
   "metadata": {},
   "source": [
    "# JapDic \n",
    "Version 2.0\n",
    "Made by Vik"
   ]
  },
  {
   "cell_type": "code",
   "execution_count": 25,
   "metadata": {},
   "outputs": [],
   "source": [
    "import requests\n",
    "from bs4 import BeautifulSoup\n",
    "import pandas as pd\n",
    "from notion_client import Client\n",
    "import os\n",
    "from dotenv import load_dotenv"
   ]
  },
  {
   "cell_type": "code",
   "execution_count": 26,
   "metadata": {},
   "outputs": [],
   "source": [
    "load_dotenv(\"locals.env\")\n",
    "token = os.getenv(\"NOTION_TOKEN\")\n",
    "table_id = os.getenv(\"NOTION_TABLE_ID\")\n",
    "page_id = os.getenv(\"NOTION_JAPDIC_DEMO_PAGE_ID\")\n"
   ]
  },
  {
   "cell_type": "code",
   "execution_count": 27,
   "metadata": {},
   "outputs": [],
   "source": [
    "# Read the words from the text file\n",
    "with open(\"data/18_11_list.txt\", \"r\") as f:\n",
    "    for line in f:\n",
    "        words = line.strip().split(\",\")\n",
    "        english_word = words[0]\n",
    "        romaji_word = words[1]\n",
    "        page_title = f\"{english_word} - {romaji_word}\""
   ]
  },
  {
   "cell_type": "code",
   "execution_count": 28,
   "metadata": {},
   "outputs": [
    {
     "name": "stdout",
     "output_type": "stream",
     "text": [
      "142ebe12-09f2-807c-aa24-e597aa2ec4de\n"
     ]
    }
   ],
   "source": [
    "# database_id = os.getenv(\"NOTION_DATABASE_ID\")\n",
    "\n",
    "client = Client(auth=token)\n",
    "\n",
    "print(page_id)"
   ]
  },
  {
   "cell_type": "code",
   "execution_count": 29,
   "metadata": {},
   "outputs": [],
   "source": [
    "page = client.pages.retrieve(page_id=page_id)\n",
    "\n",
    "# print(page)"
   ]
  },
  {
   "cell_type": "markdown",
   "metadata": {},
   "source": [
    "## Add header case"
   ]
  },
  {
   "cell_type": "code",
   "execution_count": 30,
   "metadata": {},
   "outputs": [],
   "source": [
    "header_block = {\n",
    "    \"object\": \"block\",\n",
    "    \"type\": \"header\",\n",
    "    \"header\": {\"text\": [{\"text\": {\"content\": \"This is a header\"}}]},\n",
    "}\n",
    "\n",
    "# response = client.pages.update(page_id=page_id, children=[header_block])\n",
    "# print(response)"
   ]
  },
  {
   "cell_type": "code",
   "execution_count": null,
   "metadata": {},
   "outputs": [],
   "source": []
  },
  {
   "cell_type": "code",
   "execution_count": 31,
   "metadata": {},
   "outputs": [
    {
     "data": {
      "text/plain": [
       "{'object': 'list',\n",
       " 'results': [{'object': 'block',\n",
       "   'id': '143ebe12-09f2-817c-a9a9-f0cd0b8d7248',\n",
       "   'parent': {'type': 'page_id',\n",
       "    'page_id': '142ebe12-09f2-807c-aa24-e597aa2ec4de'},\n",
       "   'created_time': '2024-11-19T14:45:00.000Z',\n",
       "   'last_edited_time': '2024-11-19T14:45:00.000Z',\n",
       "   'created_by': {'object': 'user',\n",
       "    'id': 'b323a920-ffe3-4bd1-b54c-51e9c8304629'},\n",
       "   'last_edited_by': {'object': 'user',\n",
       "    'id': 'b323a920-ffe3-4bd1-b54c-51e9c8304629'},\n",
       "   'has_children': False,\n",
       "   'archived': False,\n",
       "   'in_trash': False,\n",
       "   'type': 'paragraph',\n",
       "   'paragraph': {'rich_text': [{'type': 'text',\n",
       "      'text': {'content': 'demo text', 'link': None},\n",
       "      'annotations': {'bold': False,\n",
       "       'italic': False,\n",
       "       'strikethrough': False,\n",
       "       'underline': False,\n",
       "       'code': False,\n",
       "       'color': 'default'},\n",
       "      'plain_text': 'demo text',\n",
       "      'href': None}],\n",
       "    'color': 'default'}}],\n",
       " 'next_cursor': None,\n",
       " 'has_more': False,\n",
       " 'type': 'block',\n",
       " 'block': {},\n",
       " 'request_id': '2f40c4b6-e804-4b8a-88c7-a5f7075ca6c4'}"
      ]
     },
     "execution_count": 31,
     "metadata": {},
     "output_type": "execute_result"
    }
   ],
   "source": [
    "# Function to add text to a page\n",
    "def add_text_to_page(page_id: str, text: str):\n",
    "    \"\"\"\n",
    "    Adds text as a paragraph block to a Notion page\n",
    "\n",
    "    Args:\n",
    "        page_id (str): The ID of the Notion page\n",
    "        text (str): The text content to add\n",
    "    \"\"\"\n",
    "    try:\n",
    "        response = client.blocks.children.append(\n",
    "            block_id=page_id,\n",
    "            children=[\n",
    "                {\n",
    "                    \"type\": \"paragraph\",\n",
    "                    \"paragraph\": {\n",
    "                        \"rich_text\": [\n",
    "                            {\"type\": \"text\", \"text\": {\"content\": text, \"link\": None}}\n",
    "                        ],\n",
    "                        \"color\": \"default\",\n",
    "                    },\n",
    "                }\n",
    "            ],\n",
    "        )\n",
    "        return response\n",
    "    except Exception as e:\n",
    "        print(f\"Error adding text to page: {e}\")\n",
    "        return None\n",
    "\n",
    "\n",
    "# Example usage\n",
    "# page_id = \"YOUR_PAGE_ID\"  # Replace with your page ID\n",
    "add_text_to_page(page_id, \"demo text\")"
   ]
  },
  {
   "cell_type": "markdown",
   "metadata": {},
   "source": [
    "## Table creation "
   ]
  },
  {
   "cell_type": "code",
   "execution_count": 32,
   "metadata": {},
   "outputs": [],
   "source": [
    "def create_japanese_dictionary_table(page_id: str):\n",
    "    \"\"\"\n",
    "    Creates a database (table) with columns: ID, ROOMA-JI, Pronounced, English\n",
    "\n",
    "    Args:\n",
    "        page_id (str): The ID of the parent page where the database will be created\n",
    "    \"\"\"\n",
    "    try:\n",
    "        response = client.databases.create(\n",
    "            parent={\"type\": \"page_id\", \"page_id\": page_id},\n",
    "            title=[{\"type\": \"text\", \"text\": {\"content\": \"Japanese Dictionary\"}}],\n",
    "            properties={\n",
    "                \"ID\": {\"type\": \"number\", \"number\": {\"format\": \"number\"}},\n",
    "                \"ROOMA-JI\": {\n",
    "                    \"type\": \"title\",  # Using title type as it's required for at least one column\n",
    "                    \"title\": {},\n",
    "                },\n",
    "                \"Pronounced\": {\"type\": \"rich_text\", \"rich_text\": {}},\n",
    "                \"English\": {\"type\": \"rich_text\", \"rich_text\": {}},\n",
    "            },\n",
    "        )\n",
    "        return response\n",
    "    except Exception as e:\n",
    "        print(f\"Error creating database: {e}\")\n",
    "        return None"
   ]
  },
  {
   "cell_type": "code",
   "execution_count": 33,
   "metadata": {},
   "outputs": [],
   "source": [
    "# Example usage\n",
    "database = create_japanese_dictionary_table(page_id)"
   ]
  },
  {
   "cell_type": "markdown",
   "metadata": {},
   "source": [
    "## Table"
   ]
  },
  {
   "cell_type": "code",
   "execution_count": 34,
   "metadata": {},
   "outputs": [],
   "source": [
    "def check_for_existing_table(page_id: str) -> str | None:\n",
    "    \"\"\"\n",
    "    Checks if a table already exists on the page\n",
    "\n",
    "    Args:\n",
    "        page_id (str): The ID of the Notion page\n",
    "\n",
    "    Returns:\n",
    "        str | None: Table ID if found, None otherwise\n",
    "    \"\"\"\n",
    "    try:\n",
    "        # Get all blocks on the page\n",
    "        response = client.blocks.children.list(block_id=page_id)\n",
    "\n",
    "        # Look for a table block\n",
    "        for block in response[\"results\"]:\n",
    "            if block[\"type\"] == \"table\":\n",
    "                return block[\"id\"]\n",
    "\n",
    "        return None\n",
    "    except Exception as e:\n",
    "        print(f\"Error checking for existing table: {e}\")\n",
    "        return None"
   ]
  },
  {
   "cell_type": "code",
   "execution_count": 35,
   "metadata": {},
   "outputs": [],
   "source": [
    "def create_japanese_table(page_id: str):\n",
    "    \"\"\"\n",
    "    Creates a table with columns: ID, ROOMA-JI, Pronounced, English\n",
    "\n",
    "    Args:\n",
    "        page_id (str): The ID of the parent page where the table will be created\n",
    "    \"\"\"\n",
    "    try:\n",
    "        response = client.blocks.children.append(\n",
    "            block_id=page_id,\n",
    "            children=[\n",
    "                {\n",
    "                    \"type\": \"table\",\n",
    "                    \"table\": {\n",
    "                        \"table_width\": 4,\n",
    "                        \"has_column_header\": True,\n",
    "                        \"has_row_header\": False,\n",
    "                        \"children\": [\n",
    "                            # Header row\n",
    "                            {\n",
    "                                \"type\": \"table_row\",\n",
    "                                \"table_row\": {\n",
    "                                    \"cells\": [\n",
    "                                        [{\"type\": \"text\", \"text\": {\"content\": \"ID\"}}],\n",
    "                                        [\n",
    "                                            {\n",
    "                                                \"type\": \"text\",\n",
    "                                                \"text\": {\"content\": \"ROOMA-JI\"},\n",
    "                                            }\n",
    "                                        ],\n",
    "                                        [\n",
    "                                            {\n",
    "                                                \"type\": \"text\",\n",
    "                                                \"text\": {\"content\": \"Pronounced\"},\n",
    "                                            }\n",
    "                                        ],\n",
    "                                        [\n",
    "                                            {\n",
    "                                                \"type\": \"text\",\n",
    "                                                \"text\": {\"content\": \"English\"},\n",
    "                                            }\n",
    "                                        ],\n",
    "                                    ]\n",
    "                                },\n",
    "                            }\n",
    "                            # You can add more rows here if needed\n",
    "                        ],\n",
    "                    },\n",
    "                }\n",
    "            ],\n",
    "        )\n",
    "        return response\n",
    "    except Exception as e:\n",
    "        print(f\"Error creating table: {e}\")\n",
    "        return None\n"
   ]
  },
  {
   "cell_type": "code",
   "execution_count": 36,
   "metadata": {},
   "outputs": [],
   "source": [
    "def get_or_create_table(page_id: str) -> str | None:\n",
    "    \"\"\"\n",
    "    Gets existing table ID or creates new table\n",
    "\n",
    "    Args:\n",
    "        page_id (str): The ID of the Notion page\n",
    "\n",
    "    Returns:\n",
    "        str | None: Table ID if found/created, None if failed\n",
    "    \"\"\"\n",
    "    # First check for existing table\n",
    "    table_id = check_for_existing_table(page_id)\n",
    "\n",
    "    if table_id:\n",
    "        print(\"Found existing table\")\n",
    "        return table_id\n",
    "\n",
    "    # If no table exists, create new one\n",
    "    print(\"Creating new table\")\n",
    "    response = create_japanese_table(page_id)\n",
    "    if response and \"results\" in response:\n",
    "        table_id = response[\"results\"][0][\"id\"]\n",
    "\n",
    "        # Store the table ID in .env file\n",
    "        with open(\"locals.env\", \"a\") as f:\n",
    "            f.write(f\"\\nNOTION_TABLE_ID={table_id}\")\n",
    "\n",
    "        return table_id\n",
    "\n",
    "    return None"
   ]
  },
  {
   "cell_type": "code",
   "execution_count": 37,
   "metadata": {},
   "outputs": [],
   "source": [
    "def add_table_row(table_id: str, id_num: int, rooma_ji: str, english: str):\n",
    "    \"\"\"\n",
    "    Adds a new row to the table\n",
    "\n",
    "    Args:\n",
    "        table_id (str): The ID of the table\n",
    "        id_num (int): The ID number\n",
    "        rooma_ji (str): The romanized Japanese text\n",
    "        english (str): The English translation\n",
    "    \"\"\"\n",
    "    try:\n",
    "        response = client.blocks.children.append(\n",
    "            block_id=table_id,\n",
    "            children=[\n",
    "                {\n",
    "                    \"type\": \"table_row\",\n",
    "                    \"table_row\": {\n",
    "                        \"cells\": [\n",
    "                            [{\"type\": \"text\", \"text\": {\"content\": str(id_num)}}],\n",
    "                            [{\"type\": \"text\", \"text\": {\"content\": rooma_ji}}],\n",
    "                            [\n",
    "                                {\"type\": \"text\", \"text\": {\"content\": \"\"}}\n",
    "                            ],  # Empty Pronounced cell\n",
    "                            [{\"type\": \"text\", \"text\": {\"content\": english}}],\n",
    "                        ]\n",
    "                    },\n",
    "                }\n",
    "            ],\n",
    "        )\n",
    "        return response\n",
    "    except Exception as e:\n",
    "        print(f\"Error adding row: {e}\")\n",
    "        return None"
   ]
  },
  {
   "cell_type": "code",
   "execution_count": 40,
   "metadata": {},
   "outputs": [],
   "source": [
    "# Example usage\n",
    "# page_id = \"YOUR_PAGE_ID\"  # Replace with your page ID\n",
    "\n",
    "# Get or create table if needed\n",
    "if not table_id:\n",
    "    table_id = get_or_create_table(page_id)\n",
    "    print(table_id)\n",
    "    if not table_id:\n",
    "        print(\"Failed to get or create table\")\n",
    "        exit(1)\n",
    "\n",
    "# Now you can use the table_id for adding rows\n",
    "# add_table_row(table_id, 1, \"konnichiwa\", \"hello\")"
   ]
  },
  {
   "cell_type": "markdown",
   "metadata": {},
   "source": [
    "## Tests"
   ]
  },
  {
   "cell_type": "code",
   "execution_count": 39,
   "metadata": {},
   "outputs": [
    {
     "name": "stdout",
     "output_type": "stream",
     "text": [
      "All tests passed!\n"
     ]
    }
   ],
   "source": [
    "# Test function to verify word parsing\n",
    "def test_parse_word_line():\n",
    "    # Test case 1: Normal case\n",
    "    test_line = \"hello,konnichiwa\"\n",
    "    english, romaji = test_line.strip().split(\",\")\n",
    "    assert english == \"hello\"\n",
    "    assert romaji == \"konnichiwa\"\n",
    "\n",
    "    # Test case 2: With spaces\n",
    "    test_line = \"good morning, ohayou gozaimas\"\n",
    "    english, romaji = test_line.strip().split(\",\")\n",
    "    assert english == \"good morning\"\n",
    "    assert romaji == \" ohayou gozaimas\"\n",
    "\n",
    "    # Test case 3: Empty values\n",
    "    test_line = \",\"\n",
    "    english, romaji = test_line.strip().split(\",\")\n",
    "    assert english == \"\"\n",
    "    assert romaji == \"\"\n",
    "\n",
    "\n",
    "# Run the test\n",
    "test_parse_word_line()\n",
    "print(\"All tests passed!\")\n"
   ]
  }
 ],
 "metadata": {
  "kernelspec": {
   "display_name": ".venv",
   "language": "python",
   "name": "python3"
  },
  "language_info": {
   "codemirror_mode": {
    "name": "ipython",
    "version": 3
   },
   "file_extension": ".py",
   "mimetype": "text/x-python",
   "name": "python",
   "nbconvert_exporter": "python",
   "pygments_lexer": "ipython3",
   "version": "3.12.2"
  }
 },
 "nbformat": 4,
 "nbformat_minor": 2
}
