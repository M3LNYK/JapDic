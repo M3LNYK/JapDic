{
 "cells": [
  {
   "cell_type": "markdown",
   "metadata": {},
   "source": [
    "# JapDic \n",
    "Version 2.0\n",
    "Made by Vik"
   ]
  },
  {
   "cell_type": "code",
   "execution_count": 1,
   "metadata": {},
   "outputs": [],
   "source": [
    "import requests\n",
    "from bs4 import BeautifulSoup\n",
    "import pandas as pd\n",
    "from notion_client import Client\n",
    "import os\n",
    "from dotenv import load_dotenv"
   ]
  },
  {
   "cell_type": "code",
   "execution_count": 2,
   "metadata": {},
   "outputs": [],
   "source": [
    "load_dotenv(\"locals.env\")\n",
    "token = os.getenv(\"NOTION_TOKEN\")\n",
    "table_id = os.getenv(\"NOTION_TABLE_ID\")\n",
    "page_id = os.getenv(\"NOTION_JAPDIC_DEMO_PAGE_ID\")"
   ]
  },
  {
   "cell_type": "code",
   "execution_count": 3,
   "metadata": {},
   "outputs": [],
   "source": [
    "# database_id = os.getenv(\"NOTION_DATABASE_ID\")\n",
    "\n",
    "client = Client(auth=token)\n",
    "page = client.pages.retrieve(page_id=page_id)"
   ]
  },
  {
   "cell_type": "markdown",
   "metadata": {},
   "source": [
    "## Add header case"
   ]
  },
  {
   "cell_type": "code",
   "execution_count": 4,
   "metadata": {},
   "outputs": [],
   "source": [
    "# Function to add text to a page\n",
    "def add_text_to_page(page_id: str, text: str):\n",
    "    \"\"\"\n",
    "    Adds text as a paragraph block to a Notion page\n",
    "\n",
    "    Args:\n",
    "        page_id (str): The ID of the Notion page\n",
    "        text (str): The text content to add\n",
    "    \"\"\"\n",
    "    try:\n",
    "        response = client.blocks.children.append(\n",
    "            block_id=page_id,\n",
    "            children=[\n",
    "                {\n",
    "                    \"type\": \"paragraph\",\n",
    "                    \"paragraph\": {\n",
    "                        \"rich_text\": [\n",
    "                            {\"type\": \"text\", \"text\": {\"content\": text, \"link\": None}}\n",
    "                        ],\n",
    "                        \"color\": \"default\",\n",
    "                    },\n",
    "                }\n",
    "            ],\n",
    "        )\n",
    "        return response\n",
    "    except Exception as e:\n",
    "        print(f\"Error adding text to page: {e}\")\n",
    "        return None"
   ]
  },
  {
   "cell_type": "markdown",
   "metadata": {},
   "source": [
    "## Table"
   ]
  },
  {
   "cell_type": "code",
   "execution_count": 5,
   "metadata": {},
   "outputs": [],
   "source": [
    "def check_for_existing_table(page_id: str) -> str | None:\n",
    "    \"\"\"\n",
    "    Checks if a table already exists on the page\n",
    "\n",
    "    Args:\n",
    "        page_id (str): The ID of the Notion page\n",
    "\n",
    "    Returns:\n",
    "        str | None: Table ID if found, None otherwise\n",
    "    \"\"\"\n",
    "    try:\n",
    "        # Get all blocks on the page\n",
    "        response = client.blocks.children.list(block_id=page_id)\n",
    "\n",
    "        # Look for a table block\n",
    "        for block in response[\"results\"]:\n",
    "            if block[\"type\"] == \"table\":\n",
    "                return block[\"id\"]\n",
    "\n",
    "        return None\n",
    "    except Exception as e:\n",
    "        print(f\"Error checking for existing table: {e}\")\n",
    "        return None"
   ]
  },
  {
   "cell_type": "code",
   "execution_count": 6,
   "metadata": {},
   "outputs": [],
   "source": [
    "def create_japanese_table(page_id: str):\n",
    "    \"\"\"\n",
    "    Creates a table with columns: ID, ROOMA-JI, Pronounced, English\n",
    "\n",
    "    Args:\n",
    "        page_id (str): The ID of the parent page where the table will be created\n",
    "    \"\"\"\n",
    "    try:\n",
    "        response = client.blocks.children.append(\n",
    "            block_id=page_id,\n",
    "            children=[\n",
    "                {\n",
    "                    \"type\": \"table\",\n",
    "                    \"table\": {\n",
    "                        \"table_width\": 4,\n",
    "                        \"has_column_header\": True,\n",
    "                        \"has_row_header\": False,\n",
    "                        \"children\": [\n",
    "                            # Header row\n",
    "                            {\n",
    "                                \"type\": \"table_row\",\n",
    "                                \"table_row\": {\n",
    "                                    \"cells\": [\n",
    "                                        [{\"type\": \"text\", \"text\": {\"content\": \"ID\"}}],\n",
    "                                        [\n",
    "                                            {\n",
    "                                                \"type\": \"text\",\n",
    "                                                \"text\": {\"content\": \"ROOMA-JI\"},\n",
    "                                            }\n",
    "                                        ],\n",
    "                                        [\n",
    "                                            {\n",
    "                                                \"type\": \"text\",\n",
    "                                                \"text\": {\"content\": \"Pronounced\"},\n",
    "                                            }\n",
    "                                        ],\n",
    "                                        [\n",
    "                                            {\n",
    "                                                \"type\": \"text\",\n",
    "                                                \"text\": {\"content\": \"English\"},\n",
    "                                            }\n",
    "                                        ],\n",
    "                                    ]\n",
    "                                },\n",
    "                            }\n",
    "                            # You can add more rows here if needed\n",
    "                        ],\n",
    "                    },\n",
    "                }\n",
    "            ],\n",
    "        )\n",
    "        return response\n",
    "    except Exception as e:\n",
    "        print(f\"Error creating table: {e}\")\n",
    "        return None\n"
   ]
  },
  {
   "cell_type": "code",
   "execution_count": 7,
   "metadata": {},
   "outputs": [],
   "source": [
    "def get_or_create_table(page_id: str) -> str | None:\n",
    "    \"\"\"\n",
    "    Gets existing table ID or creates new table\n",
    "\n",
    "    Args:\n",
    "        page_id (str): The ID of the Notion page\n",
    "\n",
    "    Returns:\n",
    "        str | None: Table ID if found/created, None if failed\n",
    "    \"\"\"\n",
    "    # First check for existing table\n",
    "    table_id = check_for_existing_table(page_id)\n",
    "\n",
    "    if table_id:\n",
    "        print(\"Found existing table\")\n",
    "        return table_id\n",
    "\n",
    "    # If no table exists, create new one\n",
    "    print(\"Creating new table\")\n",
    "    response = create_japanese_table(page_id)\n",
    "    if response and \"results\" in response:\n",
    "        table_id = response[\"results\"][0][\"id\"]\n",
    "\n",
    "        # Store the table ID in .env file\n",
    "        with open(\"locals.env\", \"a\") as f:\n",
    "            f.write(f\"\\nNOTION_TABLE_ID={table_id}\")\n",
    "\n",
    "        return table_id\n",
    "\n",
    "    return None"
   ]
  },
  {
   "cell_type": "code",
   "execution_count": 8,
   "metadata": {},
   "outputs": [],
   "source": [
    "def add_table_row(table_id: str, id_num: int, rooma_ji: str, english: str):\n",
    "    \"\"\"\n",
    "    Adds a new row to the table\n",
    "\n",
    "    Args:\n",
    "        table_id (str): The ID of the table\n",
    "        id_num (int): The ID number\n",
    "        rooma_ji (str): The romanized Japanese text\n",
    "        english (str): The English translation\n",
    "    \"\"\"\n",
    "    try:\n",
    "        response = client.blocks.children.append(\n",
    "            block_id=table_id,\n",
    "            children=[\n",
    "                {\n",
    "                    \"type\": \"table_row\",\n",
    "                    \"table_row\": {\n",
    "                        \"cells\": [\n",
    "                            [{\"type\": \"text\", \"text\": {\"content\": str(id_num)}}],\n",
    "                            [{\"type\": \"text\", \"text\": {\"content\": rooma_ji}}],\n",
    "                            [\n",
    "                                {\"type\": \"text\", \"text\": {\"content\": \"\"}}\n",
    "                            ],  # Empty Pronounced cell\n",
    "                            [{\"type\": \"text\", \"text\": {\"content\": english}}],\n",
    "                        ]\n",
    "                    },\n",
    "                }\n",
    "            ],\n",
    "        )\n",
    "        return response\n",
    "    except Exception as e:\n",
    "        print(f\"Error adding row: {e}\")\n",
    "        return None"
   ]
  },
  {
   "cell_type": "code",
   "execution_count": 9,
   "metadata": {},
   "outputs": [],
   "source": [
    "def get_last_row_id(table_id: str) -> int:\n",
    "    \"\"\"\n",
    "    Gets the ID from the last row in the table\n",
    "\n",
    "    Args:\n",
    "        table_id (str): The ID of the table\n",
    "\n",
    "    Returns:\n",
    "        int: The last ID used in the table, or 0 if table is empty\n",
    "    \"\"\"\n",
    "    try:\n",
    "        # Get all rows from the table\n",
    "        response = client.blocks.children.list(block_id=table_id)\n",
    "\n",
    "        # Skip the header row and get the last row\n",
    "        rows = response[\"results\"]\n",
    "        if len(rows) <= 1:  # Only header row or empty table\n",
    "            return 0\n",
    "\n",
    "        last_row = rows[-1]\n",
    "        if last_row[\"type\"] == \"table_row\":\n",
    "            # Get the ID from the first cell\n",
    "            id_cell = last_row[\"table_row\"][\"cells\"][0]\n",
    "            if id_cell and len(id_cell) > 0:\n",
    "                return int(id_cell[0][\"text\"][\"content\"])\n",
    "\n",
    "        return 0\n",
    "\n",
    "    except Exception as e:\n",
    "        print(f\"Error getting last row ID: {e}\")\n",
    "        return 0"
   ]
  },
  {
   "cell_type": "code",
   "execution_count": 10,
   "metadata": {},
   "outputs": [
    {
     "name": "stdout",
     "output_type": "stream",
     "text": [
      "Creating new table\n",
      "143ebe12-09f2-815d-bb44-d46a7c0a0b48\n"
     ]
    }
   ],
   "source": [
    "# Get or create table if needed\n",
    "if not table_id:\n",
    "    table_id = get_or_create_table(page_id)\n",
    "    print(table_id)\n",
    "    if not table_id:\n",
    "        print(\"Failed to get or create table\")\n",
    "        exit(1)"
   ]
  },
  {
   "cell_type": "markdown",
   "metadata": {},
   "source": [
    "Code to add rows to table:"
   ]
  },
  {
   "cell_type": "code",
   "execution_count": 17,
   "metadata": {},
   "outputs": [],
   "source": [
    "# Read the words from the text file\n",
    "with open(\"data/orig_demo.txt\", \"r\") as f:\n",
    "    next_id = get_last_row_id(table_id) + 1\n",
    "    for line in f:\n",
    "        words = line.strip().split(\" = \")\n",
    "        english_word = words[0]\n",
    "        romaji_word = words[1]\n",
    "        page_title = f\"{english_word} - {romaji_word}\"\n",
    "        # Now you can use the table_id for adding rows\n",
    "        add_table_row(table_id, next_id, romaji_word, english_word)\n",
    "        next_id += 1"
   ]
  },
  {
   "cell_type": "markdown",
   "metadata": {},
   "source": [
    "## Tests"
   ]
  },
  {
   "cell_type": "code",
   "execution_count": 12,
   "metadata": {},
   "outputs": [
    {
     "name": "stdout",
     "output_type": "stream",
     "text": [
      "All tests passed!\n"
     ]
    }
   ],
   "source": [
    "# Test function to verify word parsing\n",
    "def test_parse_word_line():\n",
    "    # Test case 1: Normal case\n",
    "    test_line = \"hello,konnichiwa\"\n",
    "    english, romaji = test_line.strip().split(\",\")\n",
    "    assert english == \"hello\"\n",
    "    assert romaji == \"konnichiwa\"\n",
    "\n",
    "    # Test case 2: With spaces\n",
    "    test_line = \"good morning, ohayou gozaimas\"\n",
    "    english, romaji = test_line.strip().split(\",\")\n",
    "    assert english == \"good morning\"\n",
    "    assert romaji == \" ohayou gozaimas\"\n",
    "\n",
    "    # Test case 3: Empty values\n",
    "    test_line = \",\"\n",
    "    english, romaji = test_line.strip().split(\",\")\n",
    "    assert english == \"\"\n",
    "    assert romaji == \"\"\n",
    "\n",
    "\n",
    "# Run the test\n",
    "test_parse_word_line()\n",
    "print(\"All tests passed!\")\n"
   ]
  }
 ],
 "metadata": {
  "kernelspec": {
   "display_name": ".venv",
   "language": "python",
   "name": "python3"
  },
  "language_info": {
   "codemirror_mode": {
    "name": "ipython",
    "version": 3
   },
   "file_extension": ".py",
   "mimetype": "text/x-python",
   "name": "python",
   "nbconvert_exporter": "python",
   "pygments_lexer": "ipython3",
   "version": "3.12.2"
  }
 },
 "nbformat": 4,
 "nbformat_minor": 2
}
