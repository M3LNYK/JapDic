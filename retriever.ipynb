{
 "cells": [
  {
   "cell_type": "markdown",
   "metadata": {},
   "source": [
    "# JapDic \n",
    "Version 1.0\n",
    "Made by Vik"
   ]
  },
  {
   "cell_type": "code",
   "execution_count": 5,
   "metadata": {},
   "outputs": [],
   "source": [
    "import requests\n",
    "from bs4 import BeautifulSoup\n",
    "import pandas as pd"
   ]
  },
  {
   "cell_type": "code",
   "execution_count": 6,
   "metadata": {},
   "outputs": [],
   "source": [
    "# Define the URL\n",
    "# url = \"https://quizlet.com/pl/957743446/japanese-a1-flash-cards/?i=655jy9&x=1jqt\"\n",
    "url = \"https://quizlet.com/957743446/edit\""
   ]
  },
  {
   "cell_type": "code",
   "execution_count": 7,
   "metadata": {},
   "outputs": [
    {
     "name": "stdout",
     "output_type": "stream",
     "text": [
      "Error: Could not retrieve the webpage.\n"
     ]
    }
   ],
   "source": [
    "# Fetch the HTML content\n",
    "response = requests.get(url)\n",
    "\n",
    "# Check for successful retrieval\n",
    "if response.status_code == 200:\n",
    "    # Parse the content\n",
    "    soup = BeautifulSoup(response.content, \"html.parser\")\n",
    "\n",
    "    # Extract data (replace with specific selectors)\n",
    "    terms_japanese = []\n",
    "    terms_english = []\n",
    "\n",
    "    # Loop through elements containing terms\n",
    "    for term_element in soup.select(\"selector_for_japanese_term\"):\n",
    "        terms_japanese.append(term_element.get_text(strip=True))\n",
    "\n",
    "    for term_element in soup.select(\"selector_for_english_term\"):\n",
    "        terms_english.append(term_element.get_text(strip=True))\n",
    "\n",
    "    # Create the table (using libraries like pandas)\n",
    "\n",
    "    data = {\"Japanese\": terms_japanese, \"English\": terms_english}\n",
    "    df = pd.DataFrame(data)\n",
    "\n",
    "    # Print or save the table\n",
    "    print(df.to_string())\n",
    "else:\n",
    "    print(\"Error: Could not retrieve the webpage.\")"
   ]
  }
 ],
 "metadata": {
  "kernelspec": {
   "display_name": ".venv",
   "language": "python",
   "name": "python3"
  },
  "language_info": {
   "codemirror_mode": {
    "name": "ipython",
    "version": 3
   },
   "file_extension": ".py",
   "mimetype": "text/x-python",
   "name": "python",
   "nbconvert_exporter": "python",
   "pygments_lexer": "ipython3",
   "version": "3.12.2"
  }
 },
 "nbformat": 4,
 "nbformat_minor": 2
}
