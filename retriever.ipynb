{
 "cells": [
  {
   "cell_type": "markdown",
   "metadata": {},
   "source": [
    "# JapDic \n",
    "Version 2.0\n",
    "Made by Vik"
   ]
  },
  {
   "cell_type": "code",
   "execution_count": 34,
   "metadata": {},
   "outputs": [],
   "source": [
    "import requests\n",
    "from bs4 import BeautifulSoup\n",
    "import pandas as pd\n",
    "from notion_client import Client\n",
    "import os\n",
    "from dotenv import load_dotenv"
   ]
  },
  {
   "cell_type": "code",
   "execution_count": 36,
   "metadata": {},
   "outputs": [
    {
     "name": "stdout",
     "output_type": "stream",
     "text": [
      "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\n"
     ]
    }
   ],
   "source": [
    "load_dotenv(\"locals.env\")\n",
    "\n",
    "token = os.getenv(\"NOTION_TOKEN\")"
   ]
  },
  {
   "cell_type": "code",
   "execution_count": 32,
   "metadata": {},
   "outputs": [],
   "source": [
    "# Read the words from the text file\n",
    "with open(\"data/18_11_list.txt\", \"r\") as f:\n",
    "    for line in f:\n",
    "        words = line.strip().split(\",\")\n",
    "        english_word = words[0]\n",
    "        romaji_word = words[1]\n",
    "        page_title = f\"{english_word} - {romaji_word}\""
   ]
  },
  {
   "cell_type": "code",
   "execution_count": null,
   "metadata": {},
   "outputs": [],
   "source": [
    "# Replace with your Notion integration token and database ID\n",
    "token = \"your_integration_token\"\n",
    "database_id = \"your_database_id\"\n",
    "\n",
    "client = Client(auth=token)"
   ]
  },
  {
   "cell_type": "code",
   "execution_count": 31,
   "metadata": {},
   "outputs": [
    {
     "name": "stdout",
     "output_type": "stream",
     "text": [
      "All tests passed!\n"
     ]
    }
   ],
   "source": [
    "# Test function to verify word parsing\n",
    "def test_parse_word_line():\n",
    "    # Test case 1: Normal case\n",
    "    test_line = \"hello,konnichiwa\"\n",
    "    english, romaji = test_line.strip().split(\",\")\n",
    "    assert english == \"hello\"\n",
    "    assert romaji == \"konnichiwa\"\n",
    "\n",
    "    # Test case 2: With spaces\n",
    "    test_line = \"good morning, ohayou gozaimas\"\n",
    "    english, romaji = test_line.strip().split(\",\")\n",
    "    assert english == \"good morning\"\n",
    "    assert romaji == \" ohayou gozaimas\"\n",
    "\n",
    "    # Test case 3: Empty values\n",
    "    test_line = \",\"\n",
    "    english, romaji = test_line.strip().split(\",\")\n",
    "    assert english == \"\"\n",
    "    assert romaji == \"\"\n",
    "\n",
    "\n",
    "# Run the test\n",
    "test_parse_word_line()\n",
    "print(\"All tests passed!\")\n"
   ]
  }
 ],
 "metadata": {
  "kernelspec": {
   "display_name": ".venv",
   "language": "python",
   "name": "python3"
  },
  "language_info": {
   "codemirror_mode": {
    "name": "ipython",
    "version": 3
   },
   "file_extension": ".py",
   "mimetype": "text/x-python",
   "name": "python",
   "nbconvert_exporter": "python",
   "pygments_lexer": "ipython3",
   "version": "3.12.2"
  }
 },
 "nbformat": 4,
 "nbformat_minor": 2
}
