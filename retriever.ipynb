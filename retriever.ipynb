{
 "cells": [
  {
   "cell_type": "markdown",
   "metadata": {},
   "source": [
    "# JapDic \n",
    "Version 2.0\n",
    "Made by Vik"
   ]
  },
  {
   "cell_type": "code",
   "execution_count": 1,
   "metadata": {},
   "outputs": [],
   "source": [
    "import requests\n",
    "from bs4 import BeautifulSoup\n",
    "import pandas as pd\n",
    "from notion_client import Client\n",
    "import os\n",
    "from dotenv import load_dotenv"
   ]
  },
  {
   "cell_type": "code",
   "execution_count": 2,
   "metadata": {},
   "outputs": [],
   "source": [
    "load_dotenv(\"locals.env\")\n",
    "token = os.getenv(\"NOTION_TOKEN\")"
   ]
  },
  {
   "cell_type": "code",
   "execution_count": 3,
   "metadata": {},
   "outputs": [],
   "source": [
    "# Read the words from the text file\n",
    "with open(\"data/18_11_list.txt\", \"r\") as f:\n",
    "    for line in f:\n",
    "        words = line.strip().split(\",\")\n",
    "        english_word = words[0]\n",
    "        romaji_word = words[1]\n",
    "        page_title = f\"{english_word} - {romaji_word}\""
   ]
  },
  {
   "cell_type": "code",
   "execution_count": 4,
   "metadata": {},
   "outputs": [
    {
     "name": "stdout",
     "output_type": "stream",
     "text": [
      "142ebe12-09f2-807c-aa24-e597aa2ec4de\n"
     ]
    }
   ],
   "source": [
    "# Replace with your Notion integration token and database ID\n",
    "token = os.getenv(\"NOTION_TOKEN\")\n",
    "# database_id = os.getenv(\"NOTION_DATABASE_ID\")\n",
    "page_id = os.getenv(\"NOTION_JAPDIC_DEMO_PAGE_ID\")\n",
    "\n",
    "client = Client(auth=token)\n",
    "\n",
    "print(page_id)"
   ]
  },
  {
   "cell_type": "code",
   "execution_count": 5,
   "metadata": {},
   "outputs": [
    {
     "name": "stdout",
     "output_type": "stream",
     "text": [
      "{'object': 'page', 'id': '142ebe12-09f2-807c-aa24-e597aa2ec4de', 'created_time': '2024-11-18T23:37:00.000Z', 'last_edited_time': '2024-11-18T23:38:00.000Z', 'created_by': {'object': 'user', 'id': 'bd435e00-772b-4052-9eb6-e9304ec07464'}, 'last_edited_by': {'object': 'user', 'id': 'bd435e00-772b-4052-9eb6-e9304ec07464'}, 'cover': None, 'icon': None, 'parent': {'type': 'page_id', 'page_id': '128ebe12-09f2-8078-9eb4-d036d942ba10'}, 'archived': False, 'in_trash': False, 'properties': {'title': {'id': 'title', 'type': 'title', 'title': [{'type': 'text', 'text': {'content': 'JapDic - demo 2', 'link': None}, 'annotations': {'bold': False, 'italic': False, 'strikethrough': False, 'underline': False, 'code': False, 'color': 'default'}, 'plain_text': 'JapDic - demo 2', 'href': None}]}}, 'url': 'https://www.notion.so/JapDic-demo-2-142ebe1209f2807caa24e597aa2ec4de', 'public_url': None, 'request_id': 'b2c3880f-3e18-46b5-ac1d-dbe9285ceb22'}\n"
     ]
    }
   ],
   "source": [
    "page = client.pages.retrieve(page_id=page_id)\n",
    "\n",
    "print(page)"
   ]
  },
  {
   "cell_type": "markdown",
   "metadata": {},
   "source": [
    "## Add header case"
   ]
  },
  {
   "cell_type": "code",
   "execution_count": 6,
   "metadata": {},
   "outputs": [
    {
     "name": "stdout",
     "output_type": "stream",
     "text": [
      "{'object': 'page', 'id': '142ebe12-09f2-807c-aa24-e597aa2ec4de', 'created_time': '2024-11-18T23:37:00.000Z', 'last_edited_time': '2024-11-18T23:38:00.000Z', 'created_by': {'object': 'user', 'id': 'bd435e00-772b-4052-9eb6-e9304ec07464'}, 'last_edited_by': {'object': 'user', 'id': 'bd435e00-772b-4052-9eb6-e9304ec07464'}, 'cover': None, 'icon': None, 'parent': {'type': 'page_id', 'page_id': '128ebe12-09f2-8078-9eb4-d036d942ba10'}, 'archived': False, 'in_trash': False, 'properties': {'title': {'id': 'title', 'type': 'title', 'title': [{'type': 'text', 'text': {'content': 'JapDic - demo 2', 'link': None}, 'annotations': {'bold': False, 'italic': False, 'strikethrough': False, 'underline': False, 'code': False, 'color': 'default'}, 'plain_text': 'JapDic - demo 2', 'href': None}]}}, 'url': 'https://www.notion.so/JapDic-demo-2-142ebe1209f2807caa24e597aa2ec4de', 'public_url': None, 'request_id': 'e58477a6-5f65-4791-8921-7b549131d229'}\n"
     ]
    }
   ],
   "source": [
    "header_block = {\n",
    "    \"object\": \"block\",\n",
    "    \"type\": \"header\",\n",
    "    \"header\": {\"text\": [{\"text\": {\"content\": \"This is a header\"}}]},\n",
    "}\n",
    "\n",
    "response = client.pages.update(page_id=page_id, children=[header_block])\n",
    "print(response)"
   ]
  },
  {
   "cell_type": "code",
   "execution_count": 31,
   "metadata": {},
   "outputs": [
    {
     "name": "stdout",
     "output_type": "stream",
     "text": [
      "All tests passed!\n"
     ]
    }
   ],
   "source": [
    "# Test function to verify word parsing\n",
    "def test_parse_word_line():\n",
    "    # Test case 1: Normal case\n",
    "    test_line = \"hello,konnichiwa\"\n",
    "    english, romaji = test_line.strip().split(\",\")\n",
    "    assert english == \"hello\"\n",
    "    assert romaji == \"konnichiwa\"\n",
    "\n",
    "    # Test case 2: With spaces\n",
    "    test_line = \"good morning, ohayou gozaimas\"\n",
    "    english, romaji = test_line.strip().split(\",\")\n",
    "    assert english == \"good morning\"\n",
    "    assert romaji == \" ohayou gozaimas\"\n",
    "\n",
    "    # Test case 3: Empty values\n",
    "    test_line = \",\"\n",
    "    english, romaji = test_line.strip().split(\",\")\n",
    "    assert english == \"\"\n",
    "    assert romaji == \"\"\n",
    "\n",
    "\n",
    "# Run the test\n",
    "test_parse_word_line()\n",
    "print(\"All tests passed!\")\n"
   ]
  }
 ],
 "metadata": {
  "kernelspec": {
   "display_name": ".venv",
   "language": "python",
   "name": "python3"
  },
  "language_info": {
   "codemirror_mode": {
    "name": "ipython",
    "version": 3
   },
   "file_extension": ".py",
   "mimetype": "text/x-python",
   "name": "python",
   "nbconvert_exporter": "python",
   "pygments_lexer": "ipython3",
   "version": "3.12.2"
  }
 },
 "nbformat": 4,
 "nbformat_minor": 2
}
